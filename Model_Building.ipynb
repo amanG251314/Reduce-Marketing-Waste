{
 "cells": [
  {
   "cell_type": "code",
   "execution_count": 32,
   "id": "0c4db90e",
   "metadata": {},
   "outputs": [],
   "source": [
    "import numpy as np\n",
    "import pandas as pd\n",
    "import matplotlib.pyplot as plt\n",
    "import pickle\n",
    "from catboost import CatBoostRegressor\n",
    "from  sklearn.linear_model import LinearRegression\n",
    "from sklearn.svm import SVR\n",
    "from sklearn.ensemble import RandomForestRegressor, GradientBoostingRegressor, ExtraTreesRegressor, BaggingRegressor\n",
    "\n",
    "from sklearn.model_selection import train_test_split,StratifiedKFold,RandomizedSearchCV\n",
    "from sklearn.model_selection import ShuffleSplit\n",
    "from sklearn.model_selection import cross_validate\n",
    "from sklearn.model_selection import cross_val_score\n",
    "\n",
    "from sklearn.preprocessing import StandardScaler\n",
    "from sklearn.decomposition import PCA\n",
    "\n",
    "from sklearn.metrics import mean_absolute_error,mean_squared_error"
   ]
  },
  {
   "cell_type": "code",
   "execution_count": 33,
   "id": "fa1eaa29",
   "metadata": {},
   "outputs": [],
   "source": [
    "df=pd.read_csv('Train_Preprocessed.csv')"
   ]
  },
  {
   "cell_type": "code",
   "execution_count": 34,
   "id": "b5255b24",
   "metadata": {},
   "outputs": [
    {
     "data": {
      "text/html": [
       "<div>\n",
       "<style scoped>\n",
       "    .dataframe tbody tr th:only-of-type {\n",
       "        vertical-align: middle;\n",
       "    }\n",
       "\n",
       "    .dataframe tbody tr th {\n",
       "        vertical-align: top;\n",
       "    }\n",
       "\n",
       "    .dataframe thead th {\n",
       "        text-align: right;\n",
       "    }\n",
       "</style>\n",
       "<table border=\"1\" class=\"dataframe\">\n",
       "  <thead>\n",
       "    <tr style=\"text-align: right;\">\n",
       "      <th></th>\n",
       "      <th>Deal_value</th>\n",
       "      <th>month</th>\n",
       "      <th>week</th>\n",
       "      <th>Success_probability</th>\n",
       "      <th>Internal_rating</th>\n",
       "      <th>Weighted_amount</th>\n",
       "      <th>year</th>\n",
       "      <th>Geography_India</th>\n",
       "      <th>Geography_USA</th>\n",
       "      <th>Resource_Cannot deliver</th>\n",
       "      <th>...</th>\n",
       "      <th>Lead_revenue</th>\n",
       "      <th>Designation</th>\n",
       "      <th>Hiring_candidate_role</th>\n",
       "      <th>Level_of_meeting</th>\n",
       "      <th>Lead_name</th>\n",
       "      <th>Industry</th>\n",
       "      <th>POC_name</th>\n",
       "      <th>Location</th>\n",
       "      <th>Internal_POC</th>\n",
       "      <th>Last_lead_update</th>\n",
       "    </tr>\n",
       "  </thead>\n",
       "  <tbody>\n",
       "    <tr>\n",
       "      <th>0</th>\n",
       "      <td>320506.0</td>\n",
       "      <td>3</td>\n",
       "      <td>13</td>\n",
       "      <td>73.6</td>\n",
       "      <td>3</td>\n",
       "      <td>2.067263e+06</td>\n",
       "      <td>2020</td>\n",
       "      <td>0.0</td>\n",
       "      <td>1.0</td>\n",
       "      <td>0.0</td>\n",
       "      <td>...</td>\n",
       "      <td>1</td>\n",
       "      <td>7</td>\n",
       "      <td>126</td>\n",
       "      <td>2</td>\n",
       "      <td>1386</td>\n",
       "      <td>119</td>\n",
       "      <td>568</td>\n",
       "      <td>292</td>\n",
       "      <td>12</td>\n",
       "      <td>7</td>\n",
       "    </tr>\n",
       "    <tr>\n",
       "      <th>1</th>\n",
       "      <td>39488.0</td>\n",
       "      <td>7</td>\n",
       "      <td>28</td>\n",
       "      <td>58.9</td>\n",
       "      <td>5</td>\n",
       "      <td>2.408760e+05</td>\n",
       "      <td>2019</td>\n",
       "      <td>1.0</td>\n",
       "      <td>0.0</td>\n",
       "      <td>0.0</td>\n",
       "      <td>...</td>\n",
       "      <td>2</td>\n",
       "      <td>4</td>\n",
       "      <td>501</td>\n",
       "      <td>0</td>\n",
       "      <td>411</td>\n",
       "      <td>31</td>\n",
       "      <td>4528</td>\n",
       "      <td>457</td>\n",
       "      <td>5</td>\n",
       "      <td>2</td>\n",
       "    </tr>\n",
       "    <tr>\n",
       "      <th>2</th>\n",
       "      <td>359392.0</td>\n",
       "      <td>7</td>\n",
       "      <td>30</td>\n",
       "      <td>68.8</td>\n",
       "      <td>4</td>\n",
       "      <td>2.407926e+06</td>\n",
       "      <td>2019</td>\n",
       "      <td>0.0</td>\n",
       "      <td>1.0</td>\n",
       "      <td>0.0</td>\n",
       "      <td>...</td>\n",
       "      <td>2</td>\n",
       "      <td>8</td>\n",
       "      <td>286</td>\n",
       "      <td>0</td>\n",
       "      <td>940</td>\n",
       "      <td>56</td>\n",
       "      <td>272</td>\n",
       "      <td>15</td>\n",
       "      <td>18</td>\n",
       "      <td>4</td>\n",
       "    </tr>\n",
       "    <tr>\n",
       "      <th>3</th>\n",
       "      <td>76774.0</td>\n",
       "      <td>1</td>\n",
       "      <td>4</td>\n",
       "      <td>64.5</td>\n",
       "      <td>1</td>\n",
       "      <td>4.683210e+05</td>\n",
       "      <td>2021</td>\n",
       "      <td>0.0</td>\n",
       "      <td>1.0</td>\n",
       "      <td>0.0</td>\n",
       "      <td>...</td>\n",
       "      <td>2</td>\n",
       "      <td>2</td>\n",
       "      <td>611</td>\n",
       "      <td>1</td>\n",
       "      <td>1943</td>\n",
       "      <td>114</td>\n",
       "      <td>1170</td>\n",
       "      <td>372</td>\n",
       "      <td>5</td>\n",
       "      <td>2</td>\n",
       "    </tr>\n",
       "    <tr>\n",
       "      <th>4</th>\n",
       "      <td>483896.0</td>\n",
       "      <td>5</td>\n",
       "      <td>21</td>\n",
       "      <td>62.4</td>\n",
       "      <td>4</td>\n",
       "      <td>1.569883e+06</td>\n",
       "      <td>2019</td>\n",
       "      <td>1.0</td>\n",
       "      <td>0.0</td>\n",
       "      <td>0.0</td>\n",
       "      <td>...</td>\n",
       "      <td>1</td>\n",
       "      <td>7</td>\n",
       "      <td>369</td>\n",
       "      <td>1</td>\n",
       "      <td>3477</td>\n",
       "      <td>46</td>\n",
       "      <td>3962</td>\n",
       "      <td>505</td>\n",
       "      <td>53</td>\n",
       "      <td>9</td>\n",
       "    </tr>\n",
       "  </tbody>\n",
       "</table>\n",
       "<p>5 rows × 35 columns</p>\n",
       "</div>"
      ],
      "text/plain": [
       "   Deal_value  month  week  Success_probability  Internal_rating  \\\n",
       "0    320506.0      3    13                 73.6                3   \n",
       "1     39488.0      7    28                 58.9                5   \n",
       "2    359392.0      7    30                 68.8                4   \n",
       "3     76774.0      1     4                 64.5                1   \n",
       "4    483896.0      5    21                 62.4                4   \n",
       "\n",
       "   Weighted_amount  year  Geography_India  Geography_USA  \\\n",
       "0     2.067263e+06  2020              0.0            1.0   \n",
       "1     2.408760e+05  2019              1.0            0.0   \n",
       "2     2.407926e+06  2019              0.0            1.0   \n",
       "3     4.683210e+05  2021              0.0            1.0   \n",
       "4     1.569883e+06  2019              1.0            0.0   \n",
       "\n",
       "   Resource_Cannot deliver  ...  Lead_revenue  Designation  \\\n",
       "0                      0.0  ...             1            7   \n",
       "1                      0.0  ...             2            4   \n",
       "2                      0.0  ...             2            8   \n",
       "3                      0.0  ...             2            2   \n",
       "4                      0.0  ...             1            7   \n",
       "\n",
       "   Hiring_candidate_role  Level_of_meeting  Lead_name  Industry  POC_name  \\\n",
       "0                    126                 2       1386       119       568   \n",
       "1                    501                 0        411        31      4528   \n",
       "2                    286                 0        940        56       272   \n",
       "3                    611                 1       1943       114      1170   \n",
       "4                    369                 1       3477        46      3962   \n",
       "\n",
       "   Location  Internal_POC  Last_lead_update  \n",
       "0       292            12                 7  \n",
       "1       457             5                 2  \n",
       "2        15            18                 4  \n",
       "3       372             5                 2  \n",
       "4       505            53                 9  \n",
       "\n",
       "[5 rows x 35 columns]"
      ]
     },
     "execution_count": 34,
     "metadata": {},
     "output_type": "execute_result"
    }
   ],
   "source": [
    "df.head()"
   ]
  },
  {
   "cell_type": "code",
   "execution_count": 35,
   "id": "fe5e30f3",
   "metadata": {},
   "outputs": [],
   "source": [
    "y=df['Success_probability']\n",
    "X=df.drop(['Success_probability','week'],axis=1)"
   ]
  },
  {
   "cell_type": "code",
   "execution_count": 36,
   "id": "b8251b4a",
   "metadata": {},
   "outputs": [
    {
     "data": {
      "text/html": [
       "<div>\n",
       "<style scoped>\n",
       "    .dataframe tbody tr th:only-of-type {\n",
       "        vertical-align: middle;\n",
       "    }\n",
       "\n",
       "    .dataframe tbody tr th {\n",
       "        vertical-align: top;\n",
       "    }\n",
       "\n",
       "    .dataframe thead th {\n",
       "        text-align: right;\n",
       "    }\n",
       "</style>\n",
       "<table border=\"1\" class=\"dataframe\">\n",
       "  <thead>\n",
       "    <tr style=\"text-align: right;\">\n",
       "      <th></th>\n",
       "      <th>Deal_value</th>\n",
       "      <th>month</th>\n",
       "      <th>Internal_rating</th>\n",
       "      <th>Weighted_amount</th>\n",
       "      <th>year</th>\n",
       "      <th>Geography_India</th>\n",
       "      <th>Geography_USA</th>\n",
       "      <th>Resource_Cannot deliver</th>\n",
       "      <th>Resource_Deliverable</th>\n",
       "      <th>Resource_No</th>\n",
       "      <th>...</th>\n",
       "      <th>Lead_revenue</th>\n",
       "      <th>Designation</th>\n",
       "      <th>Hiring_candidate_role</th>\n",
       "      <th>Level_of_meeting</th>\n",
       "      <th>Lead_name</th>\n",
       "      <th>Industry</th>\n",
       "      <th>POC_name</th>\n",
       "      <th>Location</th>\n",
       "      <th>Internal_POC</th>\n",
       "      <th>Last_lead_update</th>\n",
       "    </tr>\n",
       "  </thead>\n",
       "  <tbody>\n",
       "    <tr>\n",
       "      <th>0</th>\n",
       "      <td>320506.0</td>\n",
       "      <td>3</td>\n",
       "      <td>3</td>\n",
       "      <td>2.067263e+06</td>\n",
       "      <td>2020</td>\n",
       "      <td>0.0</td>\n",
       "      <td>1.0</td>\n",
       "      <td>0.0</td>\n",
       "      <td>0.0</td>\n",
       "      <td>1.0</td>\n",
       "      <td>...</td>\n",
       "      <td>1</td>\n",
       "      <td>7</td>\n",
       "      <td>126</td>\n",
       "      <td>2</td>\n",
       "      <td>1386</td>\n",
       "      <td>119</td>\n",
       "      <td>568</td>\n",
       "      <td>292</td>\n",
       "      <td>12</td>\n",
       "      <td>7</td>\n",
       "    </tr>\n",
       "    <tr>\n",
       "      <th>1</th>\n",
       "      <td>39488.0</td>\n",
       "      <td>7</td>\n",
       "      <td>5</td>\n",
       "      <td>2.408760e+05</td>\n",
       "      <td>2019</td>\n",
       "      <td>1.0</td>\n",
       "      <td>0.0</td>\n",
       "      <td>0.0</td>\n",
       "      <td>0.0</td>\n",
       "      <td>1.0</td>\n",
       "      <td>...</td>\n",
       "      <td>2</td>\n",
       "      <td>4</td>\n",
       "      <td>501</td>\n",
       "      <td>0</td>\n",
       "      <td>411</td>\n",
       "      <td>31</td>\n",
       "      <td>4528</td>\n",
       "      <td>457</td>\n",
       "      <td>5</td>\n",
       "      <td>2</td>\n",
       "    </tr>\n",
       "    <tr>\n",
       "      <th>2</th>\n",
       "      <td>359392.0</td>\n",
       "      <td>7</td>\n",
       "      <td>4</td>\n",
       "      <td>2.407926e+06</td>\n",
       "      <td>2019</td>\n",
       "      <td>0.0</td>\n",
       "      <td>1.0</td>\n",
       "      <td>0.0</td>\n",
       "      <td>0.0</td>\n",
       "      <td>1.0</td>\n",
       "      <td>...</td>\n",
       "      <td>2</td>\n",
       "      <td>8</td>\n",
       "      <td>286</td>\n",
       "      <td>0</td>\n",
       "      <td>940</td>\n",
       "      <td>56</td>\n",
       "      <td>272</td>\n",
       "      <td>15</td>\n",
       "      <td>18</td>\n",
       "      <td>4</td>\n",
       "    </tr>\n",
       "    <tr>\n",
       "      <th>3</th>\n",
       "      <td>76774.0</td>\n",
       "      <td>1</td>\n",
       "      <td>1</td>\n",
       "      <td>4.683210e+05</td>\n",
       "      <td>2021</td>\n",
       "      <td>0.0</td>\n",
       "      <td>1.0</td>\n",
       "      <td>0.0</td>\n",
       "      <td>0.0</td>\n",
       "      <td>0.0</td>\n",
       "      <td>...</td>\n",
       "      <td>2</td>\n",
       "      <td>2</td>\n",
       "      <td>611</td>\n",
       "      <td>1</td>\n",
       "      <td>1943</td>\n",
       "      <td>114</td>\n",
       "      <td>1170</td>\n",
       "      <td>372</td>\n",
       "      <td>5</td>\n",
       "      <td>2</td>\n",
       "    </tr>\n",
       "    <tr>\n",
       "      <th>4</th>\n",
       "      <td>483896.0</td>\n",
       "      <td>5</td>\n",
       "      <td>4</td>\n",
       "      <td>1.569883e+06</td>\n",
       "      <td>2019</td>\n",
       "      <td>1.0</td>\n",
       "      <td>0.0</td>\n",
       "      <td>0.0</td>\n",
       "      <td>0.0</td>\n",
       "      <td>1.0</td>\n",
       "      <td>...</td>\n",
       "      <td>1</td>\n",
       "      <td>7</td>\n",
       "      <td>369</td>\n",
       "      <td>1</td>\n",
       "      <td>3477</td>\n",
       "      <td>46</td>\n",
       "      <td>3962</td>\n",
       "      <td>505</td>\n",
       "      <td>53</td>\n",
       "      <td>9</td>\n",
       "    </tr>\n",
       "  </tbody>\n",
       "</table>\n",
       "<p>5 rows × 33 columns</p>\n",
       "</div>"
      ],
      "text/plain": [
       "   Deal_value  month  Internal_rating  Weighted_amount  year  Geography_India  \\\n",
       "0    320506.0      3                3     2.067263e+06  2020              0.0   \n",
       "1     39488.0      7                5     2.408760e+05  2019              1.0   \n",
       "2    359392.0      7                4     2.407926e+06  2019              0.0   \n",
       "3     76774.0      1                1     4.683210e+05  2021              0.0   \n",
       "4    483896.0      5                4     1.569883e+06  2019              1.0   \n",
       "\n",
       "   Geography_USA  Resource_Cannot deliver  Resource_Deliverable  Resource_No  \\\n",
       "0            1.0                      0.0                   0.0          1.0   \n",
       "1            0.0                      0.0                   0.0          1.0   \n",
       "2            1.0                      0.0                   0.0          1.0   \n",
       "3            1.0                      0.0                   0.0          0.0   \n",
       "4            0.0                      0.0                   0.0          1.0   \n",
       "\n",
       "   ...  Lead_revenue  Designation  Hiring_candidate_role  Level_of_meeting  \\\n",
       "0  ...             1            7                    126                 2   \n",
       "1  ...             2            4                    501                 0   \n",
       "2  ...             2            8                    286                 0   \n",
       "3  ...             2            2                    611                 1   \n",
       "4  ...             1            7                    369                 1   \n",
       "\n",
       "   Lead_name  Industry  POC_name  Location  Internal_POC  Last_lead_update  \n",
       "0       1386       119       568       292            12                 7  \n",
       "1        411        31      4528       457             5                 2  \n",
       "2        940        56       272        15            18                 4  \n",
       "3       1943       114      1170       372             5                 2  \n",
       "4       3477        46      3962       505            53                 9  \n",
       "\n",
       "[5 rows x 33 columns]"
      ]
     },
     "execution_count": 36,
     "metadata": {},
     "output_type": "execute_result"
    }
   ],
   "source": [
    "X.head()"
   ]
  },
  {
   "cell_type": "markdown",
   "id": "03ca63f0",
   "metadata": {},
   "source": [
    "### Feature Selection"
   ]
  },
  {
   "cell_type": "code",
   "execution_count": 15,
   "id": "fb3dbc96",
   "metadata": {},
   "outputs": [
    {
     "data": {
      "text/plain": [
       "ExtraTreesRegressor()"
      ]
     },
     "execution_count": 15,
     "metadata": {},
     "output_type": "execute_result"
    }
   ],
   "source": [
    "model_et_fs=ExtraTreesRegressor()\n",
    "model_et_fs.fit(X,y)"
   ]
  },
  {
   "cell_type": "code",
   "execution_count": 16,
   "id": "9193ae53",
   "metadata": {},
   "outputs": [
    {
     "data": {
      "text/plain": [
       "array([0.04483345, 0.04478435, 0.04455447, 0.04525948, 0.03429722,\n",
       "       0.02225259, 0.00147895, 0.02025942, 0.0205238 , 0.02125664,\n",
       "       0.01784716, 0.01699537, 0.02141146, 0.0131623 , 0.0163935 ,\n",
       "       0.01624665, 0.01407011, 0.01743795, 0.02026103, 0.01836764,\n",
       "       0.01797268, 0.0160105 , 0.01617646, 0.03664925, 0.04729405,\n",
       "       0.04871464, 0.02451189, 0.05127988, 0.05067042, 0.06736448,\n",
       "       0.05130432, 0.05122536, 0.0491325 ])"
      ]
     },
     "execution_count": 16,
     "metadata": {},
     "output_type": "execute_result"
    }
   ],
   "source": [
    "model_et_fs.feature_importances_"
   ]
  },
  {
   "cell_type": "code",
   "execution_count": 17,
   "id": "8f56c47a",
   "metadata": {},
   "outputs": [
    {
     "data": {
      "text/plain": [
       "33"
      ]
     },
     "execution_count": 17,
     "metadata": {},
     "output_type": "execute_result"
    }
   ],
   "source": [
    "len(X.columns)"
   ]
  },
  {
   "cell_type": "code",
   "execution_count": 18,
   "id": "dd990e23",
   "metadata": {},
   "outputs": [
    {
     "data": {
      "text/plain": [
       "<AxesSubplot:>"
      ]
     },
     "execution_count": 18,
     "metadata": {},
     "output_type": "execute_result"
    },
    {
     "data": {
      "image/png": "[encoded data removed]",
      "text/plain": [
       "<Figure size 1440x720 with 1 Axes>"
      ]
     },
     "metadata": {
      "needs_background": "light"
     },
     "output_type": "display_data"
    }
   ],
   "source": [
    "plt.figure(figsize=(20,10))\n",
    "pd.Series(model_et_fs.feature_importances_, index = X.columns).nlargest(len(model_et_fs.feature_importances_)).plot(kind = 'barh')"
   ]
  },
  {
   "cell_type": "code",
   "execution_count": 19,
   "id": "1393f102",
   "metadata": {},
   "outputs": [],
   "source": [
    "a=pd.Series(model_et_fs.feature_importances_, index = X.columns).nlargest(10)"
   ]
  },
  {
   "cell_type": "code",
   "execution_count": 20,
   "id": "60935ffc",
   "metadata": {},
   "outputs": [
    {
     "data": {
      "text/plain": [
       "Index(['POC_name', 'Location', 'Lead_name', 'Internal_POC', 'Industry',\n",
       "       'Last_lead_update', 'Hiring_candidate_role', 'Designation',\n",
       "       'Weighted_amount', 'Deal_value'],\n",
       "      dtype='object')"
      ]
     },
     "execution_count": 20,
     "metadata": {},
     "output_type": "execute_result"
    }
   ],
   "source": [
    "a.index\n"
   ]
  },
  {
   "cell_type": "code",
   "execution_count": 21,
   "id": "03dde505",
   "metadata": {},
   "outputs": [],
   "source": [
    "X_selected=X[a.index]"
   ]
  },
  {
   "cell_type": "code",
   "execution_count": 22,
   "id": "5e2ff90d",
   "metadata": {},
   "outputs": [
    {
     "data": {
      "text/html": [
       "<div>\n",
       "<style scoped>\n",
       "    .dataframe tbody tr th:only-of-type {\n",
       "        vertical-align: middle;\n",
       "    }\n",
       "\n",
       "    .dataframe tbody tr th {\n",
       "        vertical-align: top;\n",
       "    }\n",
       "\n",
       "    .dataframe thead th {\n",
       "        text-align: right;\n",
       "    }\n",
       "</style>\n",
       "<table border=\"1\" class=\"dataframe\">\n",
       "  <thead>\n",
       "    <tr style=\"text-align: right;\">\n",
       "      <th></th>\n",
       "      <th>POC_name</th>\n",
       "      <th>Location</th>\n",
       "      <th>Lead_name</th>\n",
       "      <th>Internal_POC</th>\n",
       "      <th>Industry</th>\n",
       "      <th>Last_lead_update</th>\n",
       "      <th>Hiring_candidate_role</th>\n",
       "      <th>Designation</th>\n",
       "      <th>Weighted_amount</th>\n",
       "      <th>Deal_value</th>\n",
       "    </tr>\n",
       "  </thead>\n",
       "  <tbody>\n",
       "    <tr>\n",
       "      <th>0</th>\n",
       "      <td>568</td>\n",
       "      <td>292</td>\n",
       "      <td>1386</td>\n",
       "      <td>12</td>\n",
       "      <td>119</td>\n",
       "      <td>7</td>\n",
       "      <td>126</td>\n",
       "      <td>7</td>\n",
       "      <td>2.067263e+06</td>\n",
       "      <td>320506.0</td>\n",
       "    </tr>\n",
       "    <tr>\n",
       "      <th>1</th>\n",
       "      <td>4528</td>\n",
       "      <td>457</td>\n",
       "      <td>411</td>\n",
       "      <td>5</td>\n",
       "      <td>31</td>\n",
       "      <td>2</td>\n",
       "      <td>501</td>\n",
       "      <td>4</td>\n",
       "      <td>2.408760e+05</td>\n",
       "      <td>39488.0</td>\n",
       "    </tr>\n",
       "    <tr>\n",
       "      <th>2</th>\n",
       "      <td>272</td>\n",
       "      <td>15</td>\n",
       "      <td>940</td>\n",
       "      <td>18</td>\n",
       "      <td>56</td>\n",
       "      <td>4</td>\n",
       "      <td>286</td>\n",
       "      <td>8</td>\n",
       "      <td>2.407926e+06</td>\n",
       "      <td>359392.0</td>\n",
       "    </tr>\n",
       "    <tr>\n",
       "      <th>3</th>\n",
       "      <td>1170</td>\n",
       "      <td>372</td>\n",
       "      <td>1943</td>\n",
       "      <td>5</td>\n",
       "      <td>114</td>\n",
       "      <td>2</td>\n",
       "      <td>611</td>\n",
       "      <td>2</td>\n",
       "      <td>4.683210e+05</td>\n",
       "      <td>76774.0</td>\n",
       "    </tr>\n",
       "    <tr>\n",
       "      <th>4</th>\n",
       "      <td>3962</td>\n",
       "      <td>505</td>\n",
       "      <td>3477</td>\n",
       "      <td>53</td>\n",
       "      <td>46</td>\n",
       "      <td>9</td>\n",
       "      <td>369</td>\n",
       "      <td>7</td>\n",
       "      <td>1.569883e+06</td>\n",
       "      <td>483896.0</td>\n",
       "    </tr>\n",
       "  </tbody>\n",
       "</table>\n",
       "</div>"
      ],
      "text/plain": [
       "   POC_name  Location  Lead_name  Internal_POC  Industry  Last_lead_update  \\\n",
       "0       568       292       1386            12       119                 7   \n",
       "1      4528       457        411             5        31                 2   \n",
       "2       272        15        940            18        56                 4   \n",
       "3      1170       372       1943             5       114                 2   \n",
       "4      3962       505       3477            53        46                 9   \n",
       "\n",
       "   Hiring_candidate_role  Designation  Weighted_amount  Deal_value  \n",
       "0                    126            7     2.067263e+06    320506.0  \n",
       "1                    501            4     2.408760e+05     39488.0  \n",
       "2                    286            8     2.407926e+06    359392.0  \n",
       "3                    611            2     4.683210e+05     76774.0  \n",
       "4                    369            7     1.569883e+06    483896.0  "
      ]
     },
     "execution_count": 22,
     "metadata": {},
     "output_type": "execute_result"
    }
   ],
   "source": [
    "X_selected.head()"
   ]
  },
  {
   "cell_type": "markdown",
   "id": "75fd5dc1",
   "metadata": {},
   "source": [
    "### No improvement after doing feature selection"
   ]
  },
  {
   "cell_type": "markdown",
   "id": "002b5553",
   "metadata": {},
   "source": [
    "## PCA"
   ]
  },
  {
   "cell_type": "code",
   "execution_count": 37,
   "id": "8da5af9c",
   "metadata": {},
   "outputs": [],
   "source": [
    "X_train, X_test, y_train, y_test = train_test_split(X, y,test_size=0.33, random_state=42)"
   ]
  },
  {
   "cell_type": "code",
   "execution_count": 15,
   "id": "e145fa5d",
   "metadata": {},
   "outputs": [
    {
     "data": {
      "text/plain": [
       "StandardScaler()"
      ]
     },
     "execution_count": 15,
     "metadata": {},
     "output_type": "execute_result"
    }
   ],
   "source": [
    "# Standard Scaling the dataset\n",
    "scaler = StandardScaler()\n",
    "scaler.fit(X_train)"
   ]
  },
  {
   "cell_type": "code",
   "execution_count": 16,
   "id": "e7a91e8d",
   "metadata": {},
   "outputs": [],
   "source": [
    "scaled_data_train = scaler.transform(X_train)\n",
    "scaled_data_test = scaler.transform(X_test)"
   ]
  },
  {
   "cell_type": "code",
   "execution_count": 17,
   "id": "b971eb9b",
   "metadata": {},
   "outputs": [],
   "source": [
    "pca = PCA(n_components=10)"
   ]
  },
  {
   "cell_type": "code",
   "execution_count": 18,
   "id": "fa4e96b8",
   "metadata": {},
   "outputs": [
    {
     "data": {
      "text/plain": [
       "PCA(n_components=10)"
      ]
     },
     "execution_count": 18,
     "metadata": {},
     "output_type": "execute_result"
    }
   ],
   "source": [
    "pca.fit(scaled_data_train)"
   ]
  },
  {
   "cell_type": "code",
   "execution_count": 19,
   "id": "d86ff4ce",
   "metadata": {},
   "outputs": [],
   "source": [
    "X_train_pca = pca.transform(scaled_data_train)\n",
    "X_test_pca = pca.transform(scaled_data_test)"
   ]
  },
  {
   "cell_type": "code",
   "execution_count": 20,
   "id": "ff804338",
   "metadata": {},
   "outputs": [
    {
     "data": {
      "text/plain": [
       "(4694, 33)"
      ]
     },
     "execution_count": 20,
     "metadata": {},
     "output_type": "execute_result"
    }
   ],
   "source": [
    "scaled_data_train.shape"
   ]
  },
  {
   "cell_type": "code",
   "execution_count": 21,
   "id": "237c47c3",
   "metadata": {},
   "outputs": [
    {
     "data": {
      "text/plain": [
       "(4694, 10)"
      ]
     },
     "execution_count": 21,
     "metadata": {},
     "output_type": "execute_result"
    }
   ],
   "source": [
    "X_train_pca.shape"
   ]
  },
  {
   "cell_type": "code",
   "execution_count": 22,
   "id": "36db4234",
   "metadata": {},
   "outputs": [
    {
     "data": {
      "text/plain": [
       "Text(0, 0.5, 'Second Principal Component')"
      ]
     },
     "execution_count": 22,
     "metadata": {},
     "output_type": "execute_result"
    },
    {
     "data": {
      "image/png": "[encoded data removed]",
      "text/plain": [
       "<Figure size 576x432 with 1 Axes>"
      ]
     },
     "metadata": {
      "needs_background": "light"
     },
     "output_type": "display_data"
    }
   ],
   "source": [
    "plt.figure(figsize=(8,6))\n",
    "plt.scatter(X_test_pca[:,0],X_test_pca[:,1],cmap='plasma')\n",
    "plt.xlabel('First principal component')\n",
    "plt.ylabel('Second Principal Component')"
   ]
  },
  {
   "cell_type": "code",
   "execution_count": null,
   "id": "54116268",
   "metadata": {},
   "outputs": [],
   "source": []
  },
  {
   "cell_type": "code",
   "execution_count": null,
   "id": "37903444",
   "metadata": {},
   "outputs": [],
   "source": []
  },
  {
   "cell_type": "code",
   "execution_count": null,
   "id": "47b36eb4",
   "metadata": {},
   "outputs": [],
   "source": []
  },
  {
   "cell_type": "code",
   "execution_count": null,
   "id": "ba5b1e01",
   "metadata": {},
   "outputs": [],
   "source": []
  },
  {
   "cell_type": "markdown",
   "id": "7cacbf26",
   "metadata": {},
   "source": [
    "### Model Building"
   ]
  },
  {
   "cell_type": "markdown",
   "id": "b04515ce",
   "metadata": {},
   "source": [
    "### Random Forest"
   ]
  },
  {
   "cell_type": "code",
   "execution_count": 38,
   "id": "4a7b280f",
   "metadata": {},
   "outputs": [
    {
     "data": {
      "text/plain": [
       "RandomForestRegressor()"
      ]
     },
     "execution_count": 38,
     "metadata": {},
     "output_type": "execute_result"
    }
   ],
   "source": [
    "model_rf=RandomForestRegressor()\n",
    "model_rf.fit(X_train,y_train)"
   ]
  },
  {
   "cell_type": "code",
   "execution_count": 39,
   "id": "d8624bd8",
   "metadata": {},
   "outputs": [],
   "source": [
    "pred_rf=model_rf.predict(X_test)"
   ]
  },
  {
   "cell_type": "code",
   "execution_count": 40,
   "id": "95d7a81f",
   "metadata": {},
   "outputs": [],
   "source": [
    "pred_rf=pd.Series(pred_rf).apply(lambda x:0 if x<0 else x)\n",
    "pred_rf=pd.Series(pred_rf).apply(lambda x:100 if x>100 else x)"
   ]
  },
  {
   "cell_type": "code",
   "execution_count": 41,
   "id": "e676a954",
   "metadata": {},
   "outputs": [
    {
     "data": {
      "text/plain": [
       "279.5002165948984"
      ]
     },
     "execution_count": 41,
     "metadata": {},
     "output_type": "execute_result"
    }
   ],
   "source": [
    "mean_squared_error(y_test,pred_rf)"
   ]
  },
  {
   "cell_type": "code",
   "execution_count": 42,
   "id": "c9a12293",
   "metadata": {},
   "outputs": [
    {
     "data": {
      "text/plain": [
       "83.28174002490395"
      ]
     },
     "execution_count": 42,
     "metadata": {},
     "output_type": "execute_result"
    }
   ],
   "source": [
    "## HackerEarth Metics\n",
    "Score=max(0,100-np.sqrt(mean_squared_error(y_test,pred_rf)))\n",
    "Score"
   ]
  },
  {
   "cell_type": "markdown",
   "id": "c90feab2",
   "metadata": {},
   "source": [
    "### GradientBoostingRegressor"
   ]
  },
  {
   "cell_type": "code",
   "execution_count": 43,
   "id": "f30305b9",
   "metadata": {},
   "outputs": [
    {
     "data": {
      "text/plain": [
       "GradientBoostingRegressor(n_estimators=60)"
      ]
     },
     "execution_count": 43,
     "metadata": {},
     "output_type": "execute_result"
    }
   ],
   "source": [
    "model_gb=GradientBoostingRegressor(n_estimators= 60)\n",
    "model_gb.fit(X_train,y_train)"
   ]
  },
  {
   "cell_type": "code",
   "execution_count": 44,
   "id": "16c387f2",
   "metadata": {},
   "outputs": [],
   "source": [
    "pred_gb=model_gb.predict(X_test)"
   ]
  },
  {
   "cell_type": "code",
   "execution_count": 45,
   "id": "60bf9276",
   "metadata": {},
   "outputs": [],
   "source": [
    "pred_gb=pd.Series(pred_gb).apply(lambda x:0 if x<0 else x)\n",
    "pred_gb=pd.Series(pred_gb).apply(lambda x:100 if x>100 else x)"
   ]
  },
  {
   "cell_type": "code",
   "execution_count": 46,
   "id": "36677988",
   "metadata": {},
   "outputs": [
    {
     "data": {
      "text/plain": [
       "272.1119714049601"
      ]
     },
     "execution_count": 46,
     "metadata": {},
     "output_type": "execute_result"
    }
   ],
   "source": [
    "mean_squared_error(y_test,pred_gb)"
   ]
  },
  {
   "cell_type": "code",
   "execution_count": 47,
   "id": "c8650300",
   "metadata": {},
   "outputs": [
    {
     "data": {
      "text/plain": [
       "83.50418321497962"
      ]
     },
     "execution_count": 47,
     "metadata": {},
     "output_type": "execute_result"
    }
   ],
   "source": [
    "## HackerEarth Metics\n",
    "Score=max(0,100-np.sqrt(mean_squared_error(y_test,pred_gb)))\n",
    "Score"
   ]
  },
  {
   "cell_type": "code",
   "execution_count": 48,
   "id": "378d0ca7",
   "metadata": {},
   "outputs": [
    {
     "data": {
      "text/plain": [
       "Text(0.5, 0, 'Success_probability')"
      ]
     },
     "execution_count": 48,
     "metadata": {},
     "output_type": "execute_result"
    },
    {
     "data": {
      "image/png": "[encoded data removed]",
      "text/plain": [
       "<Figure size 432x288 with 1 Axes>"
      ]
     },
     "metadata": {
      "needs_background": "light"
     },
     "output_type": "display_data"
    }
   ],
   "source": [
    "pred_gb.plot.kde()\n",
    "y_test.plot.kde()\n",
    "plt.legend(['Gradient_boosting','Testing_data'])\n",
    "plt.xlabel('Success_probability')"
   ]
  },
  {
   "cell_type": "markdown",
   "id": "b23dba89",
   "metadata": {},
   "source": [
    "### Catboost Regressor"
   ]
  },
  {
   "cell_type": "code",
   "execution_count": 49,
   "id": "b6459bbb",
   "metadata": {},
   "outputs": [
    {
     "data": {
      "text/plain": [
       "<catboost.core.CatBoostRegressor at 0x1aafd1a7370>"
      ]
     },
     "execution_count": 49,
     "metadata": {},
     "output_type": "execute_result"
    }
   ],
   "source": [
    "model_cat=CatBoostRegressor(verbose=False)\n",
    "model_cat.fit(X_train,y_train)"
   ]
  },
  {
   "cell_type": "code",
   "execution_count": 50,
   "id": "8e99867f",
   "metadata": {},
   "outputs": [],
   "source": [
    "pred_cat=model_cat.predict(X_test)"
   ]
  },
  {
   "cell_type": "code",
   "execution_count": 51,
   "id": "94e2eb9f",
   "metadata": {},
   "outputs": [],
   "source": [
    "pred_cat=pd.Series(pred_cat).apply(lambda x:0 if x<0 else x)\n",
    "pred_cat=pd.Series(pred_cat).apply(lambda x:100 if x>100 else x)"
   ]
  },
  {
   "cell_type": "code",
   "execution_count": 52,
   "id": "fee00d72",
   "metadata": {},
   "outputs": [
    {
     "data": {
      "text/plain": [
       "279.487415986286"
      ]
     },
     "execution_count": 52,
     "metadata": {},
     "output_type": "execute_result"
    }
   ],
   "source": [
    "mean_squared_error(y_test,pred_cat)"
   ]
  },
  {
   "cell_type": "code",
   "execution_count": 53,
   "id": "d405260e",
   "metadata": {},
   "outputs": [
    {
     "data": {
      "text/plain": [
       "83.28212286244793"
      ]
     },
     "execution_count": 53,
     "metadata": {},
     "output_type": "execute_result"
    }
   ],
   "source": [
    "## HackerEarth Metics\n",
    "Score=max(0,100-np.sqrt(mean_squared_error(y_test,pred_cat)))\n",
    "Score"
   ]
  },
  {
   "cell_type": "markdown",
   "id": "66314c46",
   "metadata": {},
   "source": [
    "### Extra tree Regressor"
   ]
  },
  {
   "cell_type": "code",
   "execution_count": 68,
   "id": "f7a9a5eb",
   "metadata": {},
   "outputs": [
    {
     "data": {
      "text/plain": [
       "ExtraTreesRegressor(n_estimators=500)"
      ]
     },
     "execution_count": 68,
     "metadata": {},
     "output_type": "execute_result"
    }
   ],
   "source": [
    "model_et=ExtraTreesRegressor(n_estimators=500)\n",
    "model_et.fit(X_train,y_train)"
   ]
  },
  {
   "cell_type": "code",
   "execution_count": 69,
   "id": "ab2a8d02",
   "metadata": {},
   "outputs": [],
   "source": [
    "pred_et=model_et.predict(X_test)"
   ]
  },
  {
   "cell_type": "code",
   "execution_count": 70,
   "id": "77ee788f",
   "metadata": {},
   "outputs": [],
   "source": [
    "pred_et=pd.Series(pred_et).apply(lambda x:0 if x<0 else x)\n",
    "pred_et=pd.Series(pred_et).apply(lambda x:100 if x>100 else x)"
   ]
  },
  {
   "cell_type": "code",
   "execution_count": 71,
   "id": "8355750d",
   "metadata": {},
   "outputs": [
    {
     "data": {
      "text/plain": [
       "279.26791541799844"
      ]
     },
     "execution_count": 71,
     "metadata": {},
     "output_type": "execute_result"
    }
   ],
   "source": [
    "mean_squared_error(y_test,pred_et)"
   ]
  },
  {
   "cell_type": "code",
   "execution_count": 72,
   "id": "d2baa2ff",
   "metadata": {},
   "outputs": [
    {
     "data": {
      "text/plain": [
       "83.28868899762803"
      ]
     },
     "execution_count": 72,
     "metadata": {},
     "output_type": "execute_result"
    }
   ],
   "source": [
    "## HackerEarth Metics\n",
    "Score=max(0,100-np.sqrt(mean_squared_error(y_test,pred_et)))\n",
    "Score"
   ]
  },
  {
   "cell_type": "markdown",
   "id": "179cbe05",
   "metadata": {},
   "source": [
    "### Linear Regression"
   ]
  },
  {
   "cell_type": "code",
   "execution_count": 59,
   "id": "5a2e60a9",
   "metadata": {},
   "outputs": [
    {
     "data": {
      "text/plain": [
       "LinearRegression()"
      ]
     },
     "execution_count": 59,
     "metadata": {},
     "output_type": "execute_result"
    }
   ],
   "source": [
    "model_lr=LinearRegression()\n",
    "model_lr.fit(X_train,y_train)"
   ]
  },
  {
   "cell_type": "code",
   "execution_count": 60,
   "id": "957e5860",
   "metadata": {},
   "outputs": [],
   "source": [
    "pred_lr=model_lr.predict(X_test)"
   ]
  },
  {
   "cell_type": "code",
   "execution_count": 61,
   "id": "79be6278",
   "metadata": {},
   "outputs": [],
   "source": [
    "pred_lr=pd.Series(pred_lr).apply(lambda x:0 if x<0 else x)\n",
    "pred_lr=pd.Series(pred_lr).apply(lambda x:100 if x>100 else x)"
   ]
  },
  {
   "cell_type": "code",
   "execution_count": 62,
   "id": "90a33432",
   "metadata": {},
   "outputs": [
    {
     "data": {
      "text/plain": [
       "281.4747473320322"
      ]
     },
     "execution_count": 62,
     "metadata": {},
     "output_type": "execute_result"
    }
   ],
   "source": [
    "mean_squared_error(y_test,pred_et)"
   ]
  },
  {
   "cell_type": "code",
   "execution_count": 63,
   "id": "2dfe824c",
   "metadata": {},
   "outputs": [
    {
     "data": {
      "text/plain": [
       "83.22279083601708"
      ]
     },
     "execution_count": 63,
     "metadata": {},
     "output_type": "execute_result"
    }
   ],
   "source": [
    "## HackerEarth Metics\n",
    "Score=max(0,100-np.sqrt(mean_squared_error(y_test,pred_et)))\n",
    "Score"
   ]
  },
  {
   "cell_type": "markdown",
   "id": "9572e5e2",
   "metadata": {},
   "source": [
    "### Model Default Compare (Best of Worst)"
   ]
  },
  {
   "cell_type": "code",
   "execution_count": 96,
   "id": "f3894af7",
   "metadata": {},
   "outputs": [],
   "source": [
    "MLA=[LinearRegression(),\\\n",
    "     RandomForestRegressor(),\\\n",
    "     ExtraTreesRegressor(),\\\n",
    "     SVR(),\\\n",
    "     GradientBoostingRegressor(),\\\n",
    "     BaggingRegressor(),\\\n",
    "     CatBoostRegressor(verbose=False)\\\n",
    "]"
   ]
  },
  {
   "cell_type": "code",
   "execution_count": 97,
   "id": "f97cc48f",
   "metadata": {},
   "outputs": [
    {
     "name": "stdout",
     "output_type": "stream",
     "text": [
      "Running the Regression on LinearRegression\n",
      "Running the Regression on RandomForestRegressor\n",
      "Running the Regression on ExtraTreesRegressor\n",
      "Running the Regression on SVR\n",
      "Running the Regression on GradientBoostingRegressor\n",
      "Running the Regression on BaggingRegressor\n",
      "Running the Regression on CatBoostRegressor\n"
     ]
    },
    {
     "data": {
      "text/html": [
       "<div>\n",
       "<style scoped>\n",
       "    .dataframe tbody tr th:only-of-type {\n",
       "        vertical-align: middle;\n",
       "    }\n",
       "\n",
       "    .dataframe tbody tr th {\n",
       "        vertical-align: top;\n",
       "    }\n",
       "\n",
       "    .dataframe thead th {\n",
       "        text-align: right;\n",
       "    }\n",
       "</style>\n",
       "<table border=\"1\" class=\"dataframe\">\n",
       "  <thead>\n",
       "    <tr style=\"text-align: right;\">\n",
       "      <th></th>\n",
       "      <th>MLA Name</th>\n",
       "      <th>MLA Parameters</th>\n",
       "      <th>MLA Train Mean Squared Error</th>\n",
       "      <th>MLA Test Mean Mean Squared Error</th>\n",
       "      <th>MLA Test Mean HackerEarth Score</th>\n",
       "      <th>MLA Time</th>\n",
       "    </tr>\n",
       "  </thead>\n",
       "  <tbody>\n",
       "    <tr>\n",
       "      <th>0</th>\n",
       "      <td>LinearRegression</td>\n",
       "      <td>{'copy_X': True, 'fit_intercept': True, 'n_job...</td>\n",
       "      <td>258.441</td>\n",
       "      <td>252.1</td>\n",
       "      <td>84.1223</td>\n",
       "      <td>0.0109968</td>\n",
       "    </tr>\n",
       "    <tr>\n",
       "      <th>4</th>\n",
       "      <td>GradientBoostingRegressor</td>\n",
       "      <td>{'alpha': 0.9, 'ccp_alpha': 0.0, 'criterion': ...</td>\n",
       "      <td>225.103</td>\n",
       "      <td>254.007</td>\n",
       "      <td>84.0624</td>\n",
       "      <td>1.3051</td>\n",
       "    </tr>\n",
       "    <tr>\n",
       "      <th>1</th>\n",
       "      <td>RandomForestRegressor</td>\n",
       "      <td>{'bootstrap': True, 'ccp_alpha': 0.0, 'criteri...</td>\n",
       "      <td>38.1052</td>\n",
       "      <td>262.413</td>\n",
       "      <td>83.8008</td>\n",
       "      <td>5.0434</td>\n",
       "    </tr>\n",
       "    <tr>\n",
       "      <th>6</th>\n",
       "      <td>CatBoostRegressor</td>\n",
       "      <td>{'loss_function': 'RMSE', 'verbose': False}</td>\n",
       "      <td>101.412</td>\n",
       "      <td>264.46</td>\n",
       "      <td>83.7378</td>\n",
       "      <td>2.2988</td>\n",
       "    </tr>\n",
       "    <tr>\n",
       "      <th>3</th>\n",
       "      <td>SVR</td>\n",
       "      <td>{'C': 1.0, 'cache_size': 200, 'coef0': 0.0, 'd...</td>\n",
       "      <td>274.28</td>\n",
       "      <td>265.816</td>\n",
       "      <td>83.6961</td>\n",
       "      <td>1.45009</td>\n",
       "    </tr>\n",
       "    <tr>\n",
       "      <th>2</th>\n",
       "      <td>ExtraTreesRegressor</td>\n",
       "      <td>{'bootstrap': False, 'ccp_alpha': 0.0, 'criter...</td>\n",
       "      <td>8.58775e-27</td>\n",
       "      <td>270.531</td>\n",
       "      <td>83.5522</td>\n",
       "      <td>2.64779</td>\n",
       "    </tr>\n",
       "    <tr>\n",
       "      <th>5</th>\n",
       "      <td>BaggingRegressor</td>\n",
       "      <td>{'base_estimator': None, 'bootstrap': True, 'b...</td>\n",
       "      <td>54.001</td>\n",
       "      <td>290.885</td>\n",
       "      <td>82.9447</td>\n",
       "      <td>0.531599</td>\n",
       "    </tr>\n",
       "  </tbody>\n",
       "</table>\n",
       "</div>"
      ],
      "text/plain": [
       "                    MLA Name  \\\n",
       "0           LinearRegression   \n",
       "4  GradientBoostingRegressor   \n",
       "1      RandomForestRegressor   \n",
       "6          CatBoostRegressor   \n",
       "3                        SVR   \n",
       "2        ExtraTreesRegressor   \n",
       "5           BaggingRegressor   \n",
       "\n",
       "                                      MLA Parameters  \\\n",
       "0  {'copy_X': True, 'fit_intercept': True, 'n_job...   \n",
       "4  {'alpha': 0.9, 'ccp_alpha': 0.0, 'criterion': ...   \n",
       "1  {'bootstrap': True, 'ccp_alpha': 0.0, 'criteri...   \n",
       "6        {'loss_function': 'RMSE', 'verbose': False}   \n",
       "3  {'C': 1.0, 'cache_size': 200, 'coef0': 0.0, 'd...   \n",
       "2  {'bootstrap': False, 'ccp_alpha': 0.0, 'criter...   \n",
       "5  {'base_estimator': None, 'bootstrap': True, 'b...   \n",
       "\n",
       "  MLA Train Mean Squared Error MLA Test Mean Mean Squared Error  \\\n",
       "0                      258.441                            252.1   \n",
       "4                      225.103                          254.007   \n",
       "1                      38.1052                          262.413   \n",
       "6                      101.412                           264.46   \n",
       "3                       274.28                          265.816   \n",
       "2                  8.58775e-27                          270.531   \n",
       "5                       54.001                          290.885   \n",
       "\n",
       "  MLA Test Mean HackerEarth Score   MLA Time  \n",
       "0                         84.1223  0.0109968  \n",
       "4                         84.0624     1.3051  \n",
       "1                         83.8008     5.0434  \n",
       "6                         83.7378     2.2988  \n",
       "3                         83.6961    1.45009  \n",
       "2                         83.5522    2.64779  \n",
       "5                         82.9447   0.531599  "
      ]
     },
     "execution_count": 97,
     "metadata": {},
     "output_type": "execute_result"
    }
   ],
   "source": [
    "#split dataset in cross-validation with this splitter class: http://scikit-learn.org/stable/modules/generated/sklearn.model_selection.ShuffleSplit.html#sklearn.model_selection.ShuffleSplit\n",
    "#note: this is an alternative to train_test_split\n",
    "cv_split = ShuffleSplit(n_splits = 10, test_size = .20, train_size = .80, \\\n",
    "                                                random_state = 0 )\n",
    "                    # run model 10x with 60/30 split intentionally leaving out 10%\n",
    "\n",
    "#create table to compare MLA metrics\n",
    "MLA_columns = ['MLA Name', 'MLA Parameters','MLA Train Mean Squared Error','MLA Test Mean Mean Squared Error','MLA Test Mean HackerEarth Score', \\\n",
    "                'MLA Time']\n",
    "MLA_compare = pd.DataFrame(columns = MLA_columns)\n",
    "\n",
    "#create table to compare MLA predictions\n",
    "MLA_predict = y.copy()\n",
    "\n",
    "#index through MLA and save performance to table\n",
    "row_index = 0\n",
    "for alg in MLA:\n",
    "\n",
    "    #set name and parameters\n",
    "    MLA_name = alg.__class__.__name__\n",
    "    MLA_compare.loc[row_index, 'MLA Name'] = MLA_name\n",
    "    MLA_compare.loc[row_index, 'MLA Parameters'] = str(alg.get_params())\n",
    "    \n",
    "    print(\"Running the Regression on %s\" %(MLA_name))\n",
    "    \n",
    "    #score model with cross validation: http://scikit-learn.org/stable/modules/generated/sklearn.model_selection.cross_validate.html#sklearn.model_selection.cross_validate\n",
    "    cv_results = cross_validate(alg, X, y, cv = cv_split,return_train_score=\\\n",
    "                                             True, scoring='neg_mean_squared_error')\n",
    "\n",
    "    MLA_compare.loc[row_index, 'MLA Time'] = cv_results['fit_time'].mean()\n",
    "    MLA_compare.loc[row_index, 'MLA Train Mean Squared Error'] = abs(cv_results['train_score']).mean()\n",
    "    MLA_compare.loc[row_index, 'MLA Test Mean Mean Squared Error'] = abs(cv_results['test_score']).mean()\n",
    "    MLA_compare.loc[row_index, 'MLA Test Mean HackerEarth Score'] = max(0,100-np.sqrt(abs(cv_results['test_score']).mean()))\n",
    "    \n",
    "    #if this is a non-bias random sample, then +/-3 standard deviations (std) from the mean, \n",
    "    #should statistically capture 99.7% of the subsets\n",
    "    #MLA_compare.loc[row_index, 'MLA Test Error 3*STD'] = cv_results['test_score'].std()*3   \n",
    "    #let's know the worst that can happen!\n",
    "    \n",
    "\n",
    "    #save MLA predictions - see section 6 for usage\n",
    "    alg.fit(X, y)\n",
    "    MLA_predict[MLA_name] = alg.predict(X)\n",
    "    \n",
    "    row_index+=1\n",
    "\n",
    "    \n",
    "#print and sort table: https://pandas.pydata.org/pandas-docs/stable/generated/pandas.DataFrame.sort_values.html\n",
    "MLA_compare.sort_values(by = ['MLA Test Mean HackerEarth Score'], ascending = False, inplace = True)\n",
    "MLA_compare\n",
    "#MLA_predict"
   ]
  },
  {
   "cell_type": "code",
   "execution_count": 108,
   "id": "cdc40825",
   "metadata": {},
   "outputs": [],
   "source": [
    "# Function to get optimal model using grid search CV (n_splits = 5, validation set = 0.175 of train set)\n",
    "def RnCV(param,reg,XY_data):\n",
    "    [X_train, X_test, Y_train, Y_test] = XY_data\n",
    "    reg.fit(X_train,Y_train)\n",
    "    Y_train_pred = reg.predict(X_train)\n",
    "    Y_test_pred = reg.predict(X_test)\n",
    "    print(\"Default Training mean_squared_error = {}\".format(mean_squared_error(Y_train,Y_train_pred)))\n",
    "    print(\"Default Test mean_squared_error = {}\".format(mean_squared_error(Y_test,Y_test_pred)))\n",
    "    #cv_split = StratifiedKFold(n_splits = 3)\n",
    "    best_model = RandomizedSearchCV(estimator = reg, param_distributions = param, cv = 5,\\\n",
    "                              scoring = 'neg_mean_squared_error',n_jobs=-1)\n",
    "    best_model.fit(X_train, Y_train)\n",
    "    best_param = best_model.best_params_\n",
    "    print(\"Best parameters are : {}\".format(best_param))\n",
    "    reg.set_params(**best_param)\n",
    "    reg.fit(X_train, Y_train)\n",
    "    Y_train_pred = reg.predict(X_train)\n",
    "    Y_test_pred = reg.predict(X_test)\n",
    "    print(\"Training mean_squared_error = {}\".format(mean_squared_error(Y_train,Y_train_pred)))\n",
    "    print(\"Test mean_squared_error = {}\".format(mean_squared_error(Y_test,Y_test_pred)))\n",
    "    return reg"
   ]
  },
  {
   "cell_type": "code",
   "execution_count": 111,
   "id": "8a0d6349",
   "metadata": {},
   "outputs": [],
   "source": [
    "XY_data = [X_train, X_test, y_train, y_test]"
   ]
  },
  {
   "cell_type": "code",
   "execution_count": 112,
   "id": "376d663e",
   "metadata": {},
   "outputs": [],
   "source": [
    "model_gb_base=GradientBoostingRegressor()\n"
   ]
  },
  {
   "cell_type": "code",
   "execution_count": 113,
   "id": "f92380b6",
   "metadata": {},
   "outputs": [],
   "source": [
    "param={'learning_rate':[0.1,0.05,0.15,0.2,0.4,0.6,1],\\\n",
    "       'loss':['ls', 'lad', 'huber', 'quantile'],\\\n",
    "       'n_estimators':[100,200,500,700,1000],\\\n",
    "       'criterion':['mse'],\\\n",
    "       'min_samples_split':[1,3,5,7],\\\n",
    "       'min_samples_leaf':[1,2,3,4,5],\\\n",
    "       'max_depth':[10,20,30,35,40],\\\n",
    "       'max_features':['auto', 'sqrt', 'log2']\\\n",
    "}"
   ]
  },
  {
   "cell_type": "code",
   "execution_count": 114,
   "id": "0259a035",
   "metadata": {},
   "outputs": [
    {
     "name": "stdout",
     "output_type": "stream",
     "text": [
      "Default Training mean_squared_error = 214.2179680970623\n",
      "Default Test mean_squared_error = 272.633102720985\n"
     ]
    },
    {
     "name": "stderr",
     "output_type": "stream",
     "text": [
      "c:\\users\\aman\\appdata\\local\\programs\\python\\python38\\lib\\site-packages\\sklearn\\model_selection\\_search.py:918: UserWarning: One or more of the test scores are non-finite: [-316.58850339 -277.13198478 -377.05422319           nan           nan\n",
      "           nan -304.86825443 -270.75622443           nan -281.19070509]\n",
      "  warnings.warn(\n"
     ]
    },
    {
     "name": "stdout",
     "output_type": "stream",
     "text": [
      "Best parameters are : {'n_estimators': 700, 'min_samples_split': 5, 'min_samples_leaf': 5, 'max_features': 'sqrt', 'max_depth': 20, 'loss': 'lad', 'learning_rate': 0.1, 'criterion': 'mse'}\n",
      "Training mean_squared_error = 25.284746748369205\n",
      "Test mean_squared_error = 284.22580378183227\n"
     ]
    }
   ],
   "source": [
    "model_gb_tuned=RnCV(param,model_gb_base,XY_data)"
   ]
  },
  {
   "cell_type": "markdown",
   "id": "8158c013",
   "metadata": {},
   "source": [
    "# Making Final Model"
   ]
  },
  {
   "cell_type": "code",
   "execution_count": 73,
   "id": "1e71cba3",
   "metadata": {},
   "outputs": [
    {
     "data": {
      "text/plain": [
       "ExtraTreesRegressor(n_estimators=500)"
      ]
     },
     "execution_count": 73,
     "metadata": {},
     "output_type": "execute_result"
    }
   ],
   "source": [
    "model=ExtraTreesRegressor(n_estimators=500)\n",
    "model.fit(X,y)"
   ]
  },
  {
   "cell_type": "code",
   "execution_count": 74,
   "id": "4aa6157a",
   "metadata": {},
   "outputs": [],
   "source": [
    "pickle.dump(model, open('model.pkl', 'wb'))"
   ]
  },
  {
   "cell_type": "code",
   "execution_count": null,
   "id": "e3302aa2",
   "metadata": {},
   "outputs": [],
   "source": []
  },
  {
   "cell_type": "code",
   "execution_count": null,
   "id": "a9abacc7",
   "metadata": {},
   "outputs": [],
   "source": []
  }
 ],
 "metadata": {
  "kernelspec": {
   "display_name": "Python 3",
   "language": "python",
   "name": "python3"
  },
  "language_info": {
   "codemirror_mode": {
    "name": "ipython",
    "version": 3
   },
   "file_extension": ".py",
   "mimetype": "text/x-python",
   "name": "python",
   "nbconvert_exporter": "python",
   "pygments_lexer": "ipython3",
   "version": "3.8.4"
  }
 },
 "nbformat": 4,
 "nbformat_minor": 5
}
