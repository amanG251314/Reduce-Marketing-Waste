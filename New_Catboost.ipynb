{
 "cells": [
  {
   "cell_type": "markdown",
   "id": "41ff9384",
   "metadata": {},
   "source": [
    "# Submission Detail\n",
    "********************************\n",
    "## Name:- Aman Patkar \n",
    "## College:- Indian Institute of Technology Jammu"
   ]
  },
  {
   "cell_type": "markdown",
   "id": "aef574b9",
   "metadata": {},
   "source": [
    "### Importing the libraries"
   ]
  },
  {
   "cell_type": "code",
   "execution_count": null,
   "id": "139cdc29",
   "metadata": {},
   "outputs": [],
   "source": [
    "import pandas as pd\n",
    "import numpy as np\n",
    "import matplotlib.pyplot as plt\n",
    "from sklearn.preprocessing import LabelEncoder\n",
    "from sklearn.metrics import classification_report\n",
    "from sklearn.metrics import accuracy_score,confusion_matrix\n",
    "from sklearn.metrics import roc_auc_score\n",
    "from sklearn.model_selection import train_test_split\n",
    "\n",
    "from sklearn.ensemble import RandomForestClassifier,\\\n",
    "GradientBoostingClassifier, VotingClassifier, BaggingClassifier, ExtraTreesClassifier\\\n",
    ",AdaBoostClassifier\n",
    "from xgboost import XGBClassifier\n",
    "from catboost import CatBoostClassifier\n",
    "from sklearn.model_selection import ShuffleSplit, StratifiedKFold\n",
    "from sklearn.model_selection import GridSearchCV,RandomizedSearchCV\n",
    "from collections import Counter\n",
    "from sklearn.metrics import plot_roc_curve\n",
    "from sklearn.metrics import roc_curve"
   ]
  },
  {
   "cell_type": "markdown",
   "id": "400b20a1",
   "metadata": {},
   "source": [
    "### Loading the train and test data"
   ]
  },
  {
   "cell_type": "code",
   "execution_count": 2,
   "id": "978157f7",
   "metadata": {},
   "outputs": [],
   "source": [
    "train_data = pd.read_csv(r\"dataset\\Training Data.csv\")\n",
    "test_data = pd.read_csv(r\"dataset\\Test Data.csv\")"
   ]
  },
  {
   "cell_type": "markdown",
   "id": "368a597c",
   "metadata": {},
   "source": [
    "### Some preprocessing to make test data as train data"
   ]
  },
  {
   "cell_type": "code",
   "execution_count": 3,
   "id": "b4066551",
   "metadata": {},
   "outputs": [],
   "source": [
    "test_data['profession']=test_data['profession'].apply(lambda x:'Flight_attendant' if x=='Flight attendant' else x )\n",
    "test_data['profession']=test_data['profession'].apply(lambda x:'Petroleum_Engineer' if x=='Petroleum Engineer' else x )\n",
    "test_data['profession']=test_data['profession'].apply(lambda x:'Chartered_Accountant' if x=='Chartered Accountant' else x )\n",
    "test_data['profession']=test_data['profession'].apply(lambda x:'Web_designer' if x=='Web designer' else x )\n",
    "test_data['profession']=test_data['profession'].apply(lambda x:'Financial_Analyst' if x=='Financial Analyst' else x )\n",
    "test_data['profession']=test_data['profession'].apply(lambda x:'Software_Developer' if x=='Software Developer' else x )\n",
    "test_data['profession']=test_data['profession'].apply(lambda x:'Graphic_Designer' if x=='Graphic Designer' else x )\n",
    "test_data['profession']=test_data['profession'].apply(lambda x:'Army_officer' if x=='Army officer' else x )\n",
    "test_data['profession']=test_data['profession'].apply(lambda x:'Civil_servant' if x=='Civil servant' else x )\n",
    "test_data['profession']=test_data['profession'].apply(lambda x:'Chemical_engineer' if x=='Chemical engineer' else x )\n",
    "test_data['profession']=test_data['profession'].apply(lambda x:'Air_traffic_controller' if x=='Air traffic controller' else x )\n",
    "test_data['profession']=test_data['profession'].apply(lambda x:'Civil_engineer' if x=='Civil engineer' else x )\n",
    "test_data['profession']=test_data['profession'].apply(lambda x:'Industrial_Engineer' if x=='Industrial Engineer' else x )\n",
    "test_data['profession']=test_data['profession'].apply(lambda x:'Hotel_Manager' if x=='Hotel Manager' else x )\n",
    "test_data['profession']=test_data['profession'].apply(lambda x:'Mechanical_engineer' if x=='Mechanical engineer' else x )\n",
    "test_data['profession']=test_data['profession'].apply(lambda x:'Computer_operator' if x=='Computer operator' else x )\n",
    "test_data['profession']=test_data['profession'].apply(lambda x:'Technical_writer' if x=='Technical writer' else x )\n",
    "test_data['profession']=test_data['profession'].apply(lambda x:'Technology_specialist' if x=='Technology specialist' else x )\n",
    "test_data['profession']=test_data['profession'].apply(lambda x:'Biomedical_Engineer' if x=='Biomedical Engineer' else x )\n",
    "test_data['profession']=test_data['profession'].apply(lambda x:'Design_Engineer' if x=='Design Engineer' else x )\n",
    "test_data['profession']=test_data['profession'].apply(lambda x:'Computer_hardware_engineer' if x=='Computer hardware engineer' else x )\n",
    "test_data['profession']=test_data['profession'].apply(lambda x:'Fashion_Designer' if x=='Fashion Designer' else x )\n",
    "test_data['profession']=test_data['profession'].apply(lambda x:'Police_officer' if x=='Police officer' else x )\n",
    "#------------------------------------------------------------------------------------------------------------------------------\n",
    "\n",
    "test_data['city']=test_data['city'].apply(lambda x:'Bihar_Sharif' if x=='Bihar Sharif' else x )\n",
    "test_data['city']=test_data['city'].apply(lambda x:'Sri_Ganganagar' if x=='Sri Ganganagar' else x )\n",
    "test_data['city']=test_data['city'].apply(lambda x:'Ghaziabad' if x=='Khora, Ghaziabad' else x )\n",
    "test_data['city']=test_data['city'].apply(lambda x:'New_Delhi' if x=='New Delhi' else x )\n",
    "test_data['city']=test_data['city'].apply(lambda x:'Kirari_Suleman_Nagar' if x=='Kirari Suleman Nagar' else x )\n",
    "test_data['city']=test_data['city'].apply(lambda x:'Sultan_Pur_Majra' if x=='Sultan Pur Majra' else x )\n",
    "test_data['city']=test_data['city'].apply(lambda x:'Rajpur_Sonarpur' if x=='Rajpur Sonarpur' else x )\n",
    "test_data['city']=test_data['city'].apply(lambda x:'Nangloi_Jat' if x=='Nangloi Jat' else x )\n",
    "test_data['city']=test_data['city'].apply(lambda x:'North_Dumdum' if x=='North Dumdum' else x )\n",
    "test_data['city']=test_data['city'].apply(lambda x:'South_Dumdum' if x=='South Dumdum' else x )\n",
    "test_data['city']=test_data['city'].apply(lambda x:'Navi_Mumbai' if x=='Navi Mumbai' else x )\n",
    "test_data['city']=test_data['city'].apply(lambda x:'Raurkela_Industrial_Township' if x=='Raurkela Industrial Township' else x )\n",
    "test_data['city']=test_data['city'].apply(lambda x:'Surendranagar_Dudhrej' if x=='Surendranagar Dudhrej' else x )\n",
    "test_data['city']=test_data['city'].apply(lambda x:'Bhalswa_Jahangir_Pur' if x=='Bhalswa Jahangir Pur' else x )\n",
    "test_data['city']=test_data['city'].apply(lambda x:'Karawal_Nagar' if x=='Karawal Nagar' else x )\n",
    "test_data['city']=test_data['city'].apply(lambda x:'Sangli-Miraj_&_Kupwad' if x=='Sangli-Miraj & Kupwad' else x )\n",
    "#----------------------------------------------------------------------------------------------------------------------------\n",
    "test_data['state']=test_data['state'].apply(lambda x:'West_Bengal' if x=='West Bengal' else x )\n",
    "test_data['state']=test_data['state'].apply(lambda x:'Tamil_Nadu' if x=='Tamil Nadu' else x )\n",
    "test_data['state']=test_data['state'].apply(lambda x:'Andhra_Pradesh' if x=='Andhra Pradesh' else x )\n",
    "test_data['state']=test_data['state'].apply(lambda x:'Madhya_Pradesh' if x=='Madhya Pradesh' else x )\n",
    "test_data['state']=test_data['state'].apply(lambda x:'Uttar_Pradesh' if x=='Uttar Pradesh' else x )\n",
    "test_data['state']=test_data['state'].apply(lambda x:'Uttar_Pradesh' if x=='Uttar Pradesh[5]' else x )\n",
    "test_data['state']=test_data['state'].apply(lambda x:'Jammu_and_Kashmir' if x=='Jammu and Kashmir' else x )\n",
    "test_data['state']=test_data['state'].apply(lambda x:'Himachal_Pradesh' if x=='Himachal Pradesh' else x )\n"
   ]
  },
  {
   "cell_type": "markdown",
   "id": "468588f2",
   "metadata": {},
   "source": [
    "### Extrating target and dependent feature also with some preprocessing"
   ]
  },
  {
   "cell_type": "code",
   "execution_count": 71,
   "id": "91ede8a8",
   "metadata": {},
   "outputs": [],
   "source": [
    "xtrain=train_data.drop(['risk_flag','Id'],axis=1)\n",
    "ytrain=train_data[\"risk_flag\"]\n",
    "xtrain['experiencePLUSjobyears']=xtrain['experience']+xtrain['current_job_years']\n",
    "xtrain=xtrain.drop(['experience','current_job_years'],axis=1)"
   ]
  },
  {
   "cell_type": "code",
   "execution_count": 81,
   "id": "d26c2557",
   "metadata": {},
   "outputs": [
    {
     "data": {
      "text/html": [
       "<div>\n",
       "<style scoped>\n",
       "    .dataframe tbody tr th:only-of-type {\n",
       "        vertical-align: middle;\n",
       "    }\n",
       "\n",
       "    .dataframe tbody tr th {\n",
       "        vertical-align: top;\n",
       "    }\n",
       "\n",
       "    .dataframe thead th {\n",
       "        text-align: right;\n",
       "    }\n",
       "</style>\n",
       "<table border=\"1\" class=\"dataframe\">\n",
       "  <thead>\n",
       "    <tr style=\"text-align: right;\">\n",
       "      <th></th>\n",
       "      <th>income</th>\n",
       "      <th>age</th>\n",
       "      <th>married</th>\n",
       "      <th>house_ownership</th>\n",
       "      <th>car_ownership</th>\n",
       "      <th>profession</th>\n",
       "      <th>city</th>\n",
       "      <th>state</th>\n",
       "      <th>current_house_years</th>\n",
       "      <th>experiencePLUSjobyears</th>\n",
       "    </tr>\n",
       "  </thead>\n",
       "  <tbody>\n",
       "    <tr>\n",
       "      <th>0</th>\n",
       "      <td>1303835</td>\n",
       "      <td>23</td>\n",
       "      <td>single</td>\n",
       "      <td>rented</td>\n",
       "      <td>no</td>\n",
       "      <td>Mechanical_engineer</td>\n",
       "      <td>Rewa</td>\n",
       "      <td>Madhya_Pradesh</td>\n",
       "      <td>13</td>\n",
       "      <td>6</td>\n",
       "    </tr>\n",
       "    <tr>\n",
       "      <th>1</th>\n",
       "      <td>7574516</td>\n",
       "      <td>40</td>\n",
       "      <td>single</td>\n",
       "      <td>rented</td>\n",
       "      <td>no</td>\n",
       "      <td>Software_Developer</td>\n",
       "      <td>Parbhani</td>\n",
       "      <td>Maharashtra</td>\n",
       "      <td>13</td>\n",
       "      <td>19</td>\n",
       "    </tr>\n",
       "    <tr>\n",
       "      <th>2</th>\n",
       "      <td>3991815</td>\n",
       "      <td>66</td>\n",
       "      <td>married</td>\n",
       "      <td>rented</td>\n",
       "      <td>no</td>\n",
       "      <td>Technical_writer</td>\n",
       "      <td>Alappuzha</td>\n",
       "      <td>Kerala</td>\n",
       "      <td>10</td>\n",
       "      <td>8</td>\n",
       "    </tr>\n",
       "    <tr>\n",
       "      <th>3</th>\n",
       "      <td>6256451</td>\n",
       "      <td>41</td>\n",
       "      <td>single</td>\n",
       "      <td>rented</td>\n",
       "      <td>yes</td>\n",
       "      <td>Software_Developer</td>\n",
       "      <td>Bhubaneswar</td>\n",
       "      <td>Odisha</td>\n",
       "      <td>12</td>\n",
       "      <td>4</td>\n",
       "    </tr>\n",
       "    <tr>\n",
       "      <th>4</th>\n",
       "      <td>5768871</td>\n",
       "      <td>47</td>\n",
       "      <td>single</td>\n",
       "      <td>rented</td>\n",
       "      <td>no</td>\n",
       "      <td>Civil_servant</td>\n",
       "      <td>Tiruchirappalli[10]</td>\n",
       "      <td>Tamil_Nadu</td>\n",
       "      <td>14</td>\n",
       "      <td>14</td>\n",
       "    </tr>\n",
       "  </tbody>\n",
       "</table>\n",
       "</div>"
      ],
      "text/plain": [
       "    income  age  married house_ownership car_ownership           profession  \\\n",
       "0  1303835   23   single          rented            no  Mechanical_engineer   \n",
       "1  7574516   40   single          rented            no   Software_Developer   \n",
       "2  3991815   66  married          rented            no     Technical_writer   \n",
       "3  6256451   41   single          rented           yes   Software_Developer   \n",
       "4  5768871   47   single          rented            no        Civil_servant   \n",
       "\n",
       "                  city           state  current_house_years  \\\n",
       "0                 Rewa  Madhya_Pradesh                   13   \n",
       "1             Parbhani     Maharashtra                   13   \n",
       "2            Alappuzha          Kerala                   10   \n",
       "3          Bhubaneswar          Odisha                   12   \n",
       "4  Tiruchirappalli[10]      Tamil_Nadu                   14   \n",
       "\n",
       "   experiencePLUSjobyears  \n",
       "0                       6  \n",
       "1                      19  \n",
       "2                       8  \n",
       "3                       4  \n",
       "4                      14  "
      ]
     },
     "execution_count": 81,
     "metadata": {},
     "output_type": "execute_result"
    }
   ],
   "source": [
    "xtrain.head()"
   ]
  },
  {
   "cell_type": "code",
   "execution_count": 72,
   "id": "694b0499",
   "metadata": {},
   "outputs": [],
   "source": [
    "# Train test split\n",
    "X_train, X_test, y_train, y_test = train_test_split(xtrain,ytrain,test_size=0.3,random_state=2021)"
   ]
  },
  {
   "cell_type": "code",
   "execution_count": 73,
   "id": "8a0c05d0",
   "metadata": {},
   "outputs": [],
   "source": [
    "model_rf=CatBoostClassifier(class_weights={0:1.5,1:1})"
   ]
  },
  {
   "cell_type": "code",
   "execution_count": 74,
   "id": "50f21f3a",
   "metadata": {},
   "outputs": [
    {
     "data": {
      "text/plain": [
       "<catboost.core.CatBoostClassifier at 0x1ea43e17880>"
      ]
     },
     "execution_count": 74,
     "metadata": {},
     "output_type": "execute_result"
    }
   ],
   "source": [
    "model_rf.fit(X_train,y_train,cat_features=X_train.columns,verbose=False)"
   ]
  },
  {
   "cell_type": "code",
   "execution_count": 75,
   "id": "bb89b1bb",
   "metadata": {},
   "outputs": [],
   "source": [
    "pred_prob=model_rf.predict_proba(X_test)[:,1]"
   ]
  },
  {
   "cell_type": "markdown",
   "id": "7855bc85",
   "metadata": {},
   "source": [
    "### To finding the best threshold based on roc"
   ]
  },
  {
   "cell_type": "code",
   "execution_count": 76,
   "id": "c9c2d12b",
   "metadata": {},
   "outputs": [
    {
     "data": {
      "text/plain": [
       "array([1.94551757e+00, 9.45517566e-01, 9.19211998e-01, ...,\n",
       "       9.91305030e-05, 9.59385964e-05, 8.95732551e-05])"
      ]
     },
     "execution_count": 76,
     "metadata": {},
     "output_type": "execute_result"
    }
   ],
   "source": [
    "\n",
    "fpr, tpr, thresholds = roc_curve(y_test, pred_prob)\n",
    "thresholds"
   ]
  },
  {
   "cell_type": "markdown",
   "id": "7bb62229",
   "metadata": {},
   "source": [
    "### Listing threshold and roc score"
   ]
  },
  {
   "cell_type": "code",
   "execution_count": 77,
   "id": "c6e37ae1",
   "metadata": {},
   "outputs": [
    {
     "data": {
      "text/html": [
       "<div>\n",
       "<style scoped>\n",
       "    .dataframe tbody tr th:only-of-type {\n",
       "        vertical-align: middle;\n",
       "    }\n",
       "\n",
       "    .dataframe tbody tr th {\n",
       "        vertical-align: top;\n",
       "    }\n",
       "\n",
       "    .dataframe thead th {\n",
       "        text-align: right;\n",
       "    }\n",
       "</style>\n",
       "<table border=\"1\" class=\"dataframe\">\n",
       "  <thead>\n",
       "    <tr style=\"text-align: right;\">\n",
       "      <th></th>\n",
       "      <th>thresholds</th>\n",
       "      <th>roc_auc_score</th>\n",
       "    </tr>\n",
       "  </thead>\n",
       "  <tbody>\n",
       "    <tr>\n",
       "      <th>4542</th>\n",
       "      <td>0.093664</td>\n",
       "      <td>0.892831</td>\n",
       "    </tr>\n",
       "    <tr>\n",
       "      <th>4543</th>\n",
       "      <td>0.093502</td>\n",
       "      <td>0.892824</td>\n",
       "    </tr>\n",
       "    <tr>\n",
       "      <th>4540</th>\n",
       "      <td>0.094124</td>\n",
       "      <td>0.892792</td>\n",
       "    </tr>\n",
       "    <tr>\n",
       "      <th>4541</th>\n",
       "      <td>0.094038</td>\n",
       "      <td>0.892784</td>\n",
       "    </tr>\n",
       "    <tr>\n",
       "      <th>4544</th>\n",
       "      <td>0.086880</td>\n",
       "      <td>0.892781</td>\n",
       "    </tr>\n",
       "  </tbody>\n",
       "</table>\n",
       "</div>"
      ],
      "text/plain": [
       "      thresholds  roc_auc_score\n",
       "4542    0.093664       0.892831\n",
       "4543    0.093502       0.892824\n",
       "4540    0.094124       0.892792\n",
       "4541    0.094038       0.892784\n",
       "4544    0.086880       0.892781"
      ]
     },
     "execution_count": 77,
     "metadata": {},
     "output_type": "execute_result"
    }
   ],
   "source": [
    "roc_auc_score_ = []\n",
    "for thres in thresholds:\n",
    "    y_pred = np.where(pred_prob>thres,1,0)\n",
    "    roc_auc_score_.append(roc_auc_score(y_test, y_pred))\n",
    "    \n",
    "roc_auc_score_ = pd.concat([pd.Series(thresholds), pd.Series(roc_auc_score_)],\n",
    "                        axis=1)\n",
    "roc_auc_score_.columns = ['thresholds', 'roc_auc_score']\n",
    "roc_auc_score_.sort_values(by='roc_auc_score', ascending=False, inplace=True)\n",
    "roc_auc_score_.head()"
   ]
  },
  {
   "cell_type": "code",
   "execution_count": 78,
   "id": "8f83f7c5",
   "metadata": {},
   "outputs": [],
   "source": [
    "pred_ens = np.where(pred_prob>0.093664,1,0)"
   ]
  },
  {
   "cell_type": "code",
   "execution_count": 80,
   "id": "10651ff3",
   "metadata": {},
   "outputs": [
    {
     "name": "stdout",
     "output_type": "stream",
     "text": [
      "Test roc_auc_score = 0.8928313573793318\n"
     ]
    },
    {
     "data": {
      "text/html": [
       "<div>\n",
       "<style scoped>\n",
       "    .dataframe tbody tr th:only-of-type {\n",
       "        vertical-align: middle;\n",
       "    }\n",
       "\n",
       "    .dataframe tbody tr th {\n",
       "        vertical-align: top;\n",
       "    }\n",
       "\n",
       "    .dataframe thead th {\n",
       "        text-align: right;\n",
       "    }\n",
       "</style>\n",
       "<table border=\"1\" class=\"dataframe\">\n",
       "  <thead>\n",
       "    <tr style=\"text-align: right;\">\n",
       "      <th></th>\n",
       "      <th>Predicted Negative</th>\n",
       "      <th>Predicted Positive</th>\n",
       "    </tr>\n",
       "  </thead>\n",
       "  <tbody>\n",
       "    <tr>\n",
       "      <th>Actual Negative</th>\n",
       "      <td>52210</td>\n",
       "      <td>14225</td>\n",
       "    </tr>\n",
       "    <tr>\n",
       "      <th>Actual Positive</th>\n",
       "      <td>2</td>\n",
       "      <td>9163</td>\n",
       "    </tr>\n",
       "  </tbody>\n",
       "</table>\n",
       "</div>"
      ],
      "text/plain": [
       "                 Predicted Negative  Predicted Positive\n",
       "Actual Negative               52210               14225\n",
       "Actual Positive                   2                9163"
      ]
     },
     "execution_count": 80,
     "metadata": {},
     "output_type": "execute_result"
    }
   ],
   "source": [
    "print(\"Test roc_auc_score = {}\".format(roc_auc_score(y_test,pred_ens)))\n",
    "pd.DataFrame(confusion_matrix(y_test,pred_ens),\\\n",
    "             columns=['Predicted Negative', 'Predicted Positive'],\\\n",
    "             index=['Actual Negative', 'Actual Positive'])     "
   ]
  },
  {
   "cell_type": "markdown",
   "id": "3bd7bd2f",
   "metadata": {},
   "source": [
    "## Submission"
   ]
  },
  {
   "cell_type": "code",
   "execution_count": 82,
   "id": "5f40c5ae",
   "metadata": {},
   "outputs": [
    {
     "data": {
      "text/plain": [
       "<catboost.core.CatBoostClassifier at 0x1ea43e1bb80>"
      ]
     },
     "execution_count": 82,
     "metadata": {},
     "output_type": "execute_result"
    }
   ],
   "source": [
    "model_cat=CatBoostClassifier(class_weights={0:1.5,1:1})\n",
    "model_cat.fit(xtrain,ytrain,cat_features=xtrain.columns,verbose=False)\n"
   ]
  },
  {
   "cell_type": "code",
   "execution_count": 83,
   "id": "912b3c6d",
   "metadata": {},
   "outputs": [
    {
     "data": {
      "text/html": [
       "<div>\n",
       "<style scoped>\n",
       "    .dataframe tbody tr th:only-of-type {\n",
       "        vertical-align: middle;\n",
       "    }\n",
       "\n",
       "    .dataframe tbody tr th {\n",
       "        vertical-align: top;\n",
       "    }\n",
       "\n",
       "    .dataframe thead th {\n",
       "        text-align: right;\n",
       "    }\n",
       "</style>\n",
       "<table border=\"1\" class=\"dataframe\">\n",
       "  <thead>\n",
       "    <tr style=\"text-align: right;\">\n",
       "      <th></th>\n",
       "      <th>income</th>\n",
       "      <th>age</th>\n",
       "      <th>married</th>\n",
       "      <th>house_ownership</th>\n",
       "      <th>car_ownership</th>\n",
       "      <th>profession</th>\n",
       "      <th>city</th>\n",
       "      <th>state</th>\n",
       "      <th>current_house_years</th>\n",
       "      <th>experiencePLUSjobyears</th>\n",
       "    </tr>\n",
       "  </thead>\n",
       "  <tbody>\n",
       "    <tr>\n",
       "      <th>0</th>\n",
       "      <td>1303835</td>\n",
       "      <td>23</td>\n",
       "      <td>single</td>\n",
       "      <td>rented</td>\n",
       "      <td>no</td>\n",
       "      <td>Mechanical_engineer</td>\n",
       "      <td>Rewa</td>\n",
       "      <td>Madhya_Pradesh</td>\n",
       "      <td>13</td>\n",
       "      <td>6</td>\n",
       "    </tr>\n",
       "    <tr>\n",
       "      <th>1</th>\n",
       "      <td>7574516</td>\n",
       "      <td>40</td>\n",
       "      <td>single</td>\n",
       "      <td>rented</td>\n",
       "      <td>no</td>\n",
       "      <td>Software_Developer</td>\n",
       "      <td>Parbhani</td>\n",
       "      <td>Maharashtra</td>\n",
       "      <td>13</td>\n",
       "      <td>19</td>\n",
       "    </tr>\n",
       "    <tr>\n",
       "      <th>2</th>\n",
       "      <td>3991815</td>\n",
       "      <td>66</td>\n",
       "      <td>married</td>\n",
       "      <td>rented</td>\n",
       "      <td>no</td>\n",
       "      <td>Technical_writer</td>\n",
       "      <td>Alappuzha</td>\n",
       "      <td>Kerala</td>\n",
       "      <td>10</td>\n",
       "      <td>8</td>\n",
       "    </tr>\n",
       "    <tr>\n",
       "      <th>3</th>\n",
       "      <td>6256451</td>\n",
       "      <td>41</td>\n",
       "      <td>single</td>\n",
       "      <td>rented</td>\n",
       "      <td>yes</td>\n",
       "      <td>Software_Developer</td>\n",
       "      <td>Bhubaneswar</td>\n",
       "      <td>Odisha</td>\n",
       "      <td>12</td>\n",
       "      <td>4</td>\n",
       "    </tr>\n",
       "    <tr>\n",
       "      <th>4</th>\n",
       "      <td>5768871</td>\n",
       "      <td>47</td>\n",
       "      <td>single</td>\n",
       "      <td>rented</td>\n",
       "      <td>no</td>\n",
       "      <td>Civil_servant</td>\n",
       "      <td>Tiruchirappalli[10]</td>\n",
       "      <td>Tamil_Nadu</td>\n",
       "      <td>14</td>\n",
       "      <td>14</td>\n",
       "    </tr>\n",
       "  </tbody>\n",
       "</table>\n",
       "</div>"
      ],
      "text/plain": [
       "    income  age  married house_ownership car_ownership           profession  \\\n",
       "0  1303835   23   single          rented            no  Mechanical_engineer   \n",
       "1  7574516   40   single          rented            no   Software_Developer   \n",
       "2  3991815   66  married          rented            no     Technical_writer   \n",
       "3  6256451   41   single          rented           yes   Software_Developer   \n",
       "4  5768871   47   single          rented            no        Civil_servant   \n",
       "\n",
       "                  city           state  current_house_years  \\\n",
       "0                 Rewa  Madhya_Pradesh                   13   \n",
       "1             Parbhani     Maharashtra                   13   \n",
       "2            Alappuzha          Kerala                   10   \n",
       "3          Bhubaneswar          Odisha                   12   \n",
       "4  Tiruchirappalli[10]      Tamil_Nadu                   14   \n",
       "\n",
       "   experiencePLUSjobyears  \n",
       "0                       6  \n",
       "1                      19  \n",
       "2                       8  \n",
       "3                       4  \n",
       "4                      14  "
      ]
     },
     "execution_count": 83,
     "metadata": {},
     "output_type": "execute_result"
    }
   ],
   "source": [
    "xtrain.head()"
   ]
  },
  {
   "cell_type": "code",
   "execution_count": 84,
   "id": "fa8870f4",
   "metadata": {},
   "outputs": [],
   "source": [
    "test_data=test_data.drop('id',axis=1)\n",
    "test_data['experiencePLUSjobyears']=test_data['experience']+test_data['current_job_years']\n",
    "test_data=test_data.drop(['experience','current_job_years'],axis=1)"
   ]
  },
  {
   "cell_type": "code",
   "execution_count": 85,
   "id": "20e934b5",
   "metadata": {},
   "outputs": [
    {
     "data": {
      "text/html": [
       "<div>\n",
       "<style scoped>\n",
       "    .dataframe tbody tr th:only-of-type {\n",
       "        vertical-align: middle;\n",
       "    }\n",
       "\n",
       "    .dataframe tbody tr th {\n",
       "        vertical-align: top;\n",
       "    }\n",
       "\n",
       "    .dataframe thead th {\n",
       "        text-align: right;\n",
       "    }\n",
       "</style>\n",
       "<table border=\"1\" class=\"dataframe\">\n",
       "  <thead>\n",
       "    <tr style=\"text-align: right;\">\n",
       "      <th></th>\n",
       "      <th>income</th>\n",
       "      <th>age</th>\n",
       "      <th>married</th>\n",
       "      <th>house_ownership</th>\n",
       "      <th>car_ownership</th>\n",
       "      <th>profession</th>\n",
       "      <th>city</th>\n",
       "      <th>state</th>\n",
       "      <th>current_house_years</th>\n",
       "      <th>experiencePLUSjobyears</th>\n",
       "    </tr>\n",
       "  </thead>\n",
       "  <tbody>\n",
       "    <tr>\n",
       "      <th>0</th>\n",
       "      <td>7393090</td>\n",
       "      <td>59</td>\n",
       "      <td>single</td>\n",
       "      <td>rented</td>\n",
       "      <td>no</td>\n",
       "      <td>Geologist</td>\n",
       "      <td>Malda</td>\n",
       "      <td>West_Bengal</td>\n",
       "      <td>13</td>\n",
       "      <td>23</td>\n",
       "    </tr>\n",
       "    <tr>\n",
       "      <th>1</th>\n",
       "      <td>1215004</td>\n",
       "      <td>25</td>\n",
       "      <td>single</td>\n",
       "      <td>rented</td>\n",
       "      <td>no</td>\n",
       "      <td>Firefighter</td>\n",
       "      <td>Jalna</td>\n",
       "      <td>Maharashtra</td>\n",
       "      <td>10</td>\n",
       "      <td>10</td>\n",
       "    </tr>\n",
       "    <tr>\n",
       "      <th>2</th>\n",
       "      <td>8901342</td>\n",
       "      <td>50</td>\n",
       "      <td>single</td>\n",
       "      <td>rented</td>\n",
       "      <td>no</td>\n",
       "      <td>Lawyer</td>\n",
       "      <td>Thane</td>\n",
       "      <td>Maharashtra</td>\n",
       "      <td>14</td>\n",
       "      <td>21</td>\n",
       "    </tr>\n",
       "    <tr>\n",
       "      <th>3</th>\n",
       "      <td>1944421</td>\n",
       "      <td>49</td>\n",
       "      <td>married</td>\n",
       "      <td>rented</td>\n",
       "      <td>yes</td>\n",
       "      <td>Analyst</td>\n",
       "      <td>Latur</td>\n",
       "      <td>Maharashtra</td>\n",
       "      <td>12</td>\n",
       "      <td>12</td>\n",
       "    </tr>\n",
       "    <tr>\n",
       "      <th>4</th>\n",
       "      <td>13429</td>\n",
       "      <td>25</td>\n",
       "      <td>single</td>\n",
       "      <td>rented</td>\n",
       "      <td>yes</td>\n",
       "      <td>Comedian</td>\n",
       "      <td>Berhampore</td>\n",
       "      <td>West_Bengal</td>\n",
       "      <td>11</td>\n",
       "      <td>31</td>\n",
       "    </tr>\n",
       "  </tbody>\n",
       "</table>\n",
       "</div>"
      ],
      "text/plain": [
       "    income  age  married house_ownership car_ownership   profession  \\\n",
       "0  7393090   59   single          rented            no    Geologist   \n",
       "1  1215004   25   single          rented            no  Firefighter   \n",
       "2  8901342   50   single          rented            no       Lawyer   \n",
       "3  1944421   49  married          rented           yes      Analyst   \n",
       "4    13429   25   single          rented           yes     Comedian   \n",
       "\n",
       "         city        state  current_house_years  experiencePLUSjobyears  \n",
       "0       Malda  West_Bengal                   13                      23  \n",
       "1       Jalna  Maharashtra                   10                      10  \n",
       "2       Thane  Maharashtra                   14                      21  \n",
       "3       Latur  Maharashtra                   12                      12  \n",
       "4  Berhampore  West_Bengal                   11                      31  "
      ]
     },
     "execution_count": 85,
     "metadata": {},
     "output_type": "execute_result"
    }
   ],
   "source": [
    "test_data.head()"
   ]
  },
  {
   "cell_type": "code",
   "execution_count": 86,
   "id": "50f92053",
   "metadata": {},
   "outputs": [],
   "source": [
    "pred_prob=model_cat.predict_proba(test_data)[:,1]"
   ]
  },
  {
   "cell_type": "code",
   "execution_count": 87,
   "id": "eeba3b57",
   "metadata": {},
   "outputs": [],
   "source": [
    "pred_ens = np.where(pred_prob>0.093664,1,0)"
   ]
  },
  {
   "cell_type": "code",
   "execution_count": 88,
   "id": "2cc0b3a1",
   "metadata": {},
   "outputs": [],
   "source": [
    "test_data = pd.read_csv(\"dataset\\Test Data.csv\")\n",
    "train_data = pd.read_csv(\"dataset\\Training Data.csv\")\n",
    "train_data=train_data.drop('risk_flag',axis=1)\n",
    "test_data.columns=train_data.columns"
   ]
  },
  {
   "cell_type": "code",
   "execution_count": 89,
   "id": "b4aead6d",
   "metadata": {},
   "outputs": [],
   "source": [
    "final_dict={'id':test_data.Id.values,'risk_flag':pred_ens}"
   ]
  },
  {
   "cell_type": "code",
   "execution_count": 90,
   "id": "a05b50a9",
   "metadata": {},
   "outputs": [],
   "source": [
    "final_sub=pd.DataFrame(final_dict)"
   ]
  },
  {
   "cell_type": "code",
   "execution_count": 91,
   "id": "ae06e826",
   "metadata": {},
   "outputs": [],
   "source": [
    "final_sub.to_csv('Submission_Catboost.csv',index=False)"
   ]
  },
  {
   "cell_type": "code",
   "execution_count": null,
   "id": "4ebb3fac",
   "metadata": {},
   "outputs": [],
   "source": []
  }
 ],
 "metadata": {
  "kernelspec": {
   "display_name": "Python 3",
   "language": "python",
   "name": "python3"
  },
  "language_info": {
   "codemirror_mode": {
    "name": "ipython",
    "version": 3
   },
   "file_extension": ".py",
   "mimetype": "text/x-python",
   "name": "python",
   "nbconvert_exporter": "python",
   "pygments_lexer": "ipython3",
   "version": "3.8.4"
  }
 },
 "nbformat": 4,
 "nbformat_minor": 5
}
